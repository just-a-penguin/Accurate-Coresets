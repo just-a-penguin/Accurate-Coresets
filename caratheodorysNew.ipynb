{
 "cells": [
  {
   "cell_type": "code",
   "execution_count": 6,
   "metadata": {},
   "outputs": [
    {
     "name": "stdout",
     "output_type": "stream",
     "text": [
      "Subset S: [[1 2]\n",
      " [3 1]\n",
      " [5 3]]\n",
      "New weights u: [0.04502965 0.67748518 0.27748518]\n"
     ]
    }
   ],
   "source": [
    "import numpy as np\n",
    "\n",
    "def caratheodory(P, w):\n",
    "    n, d = P.shape\n",
    "    if n <= d + 1:\n",
    "        return P, w\n",
    "    \n",
    "    # Compute the matrix M (each column is pi - p1)\n",
    "    M = (P[1:] - P[0]).T  # shape (d, n-1)\n",
    "\n",
    "    # Perform SVD on M\n",
    "    U, S, Vt = np.linalg.svd(M, full_matrices=False)\n",
    "    \n",
    "    # The smallest singular value is the last one in S, and its corresponding vector is the last row of Vt\n",
    "    v = Vt[-1]\n",
    "\n",
    "    # Include v1, which is the negative sum of the other entries in v\n",
    "    v1 = -np.sum(v)\n",
    "    v = np.insert(v, 0, v1)\n",
    "    \n",
    "    # Calculate alpha\n",
    "    alpha = np.inf\n",
    "    for i in range(n):\n",
    "        if v[i] > 0:\n",
    "            alpha = min(alpha, w[i] / v[i])\n",
    "    \n",
    "    # Calculate new weights u\n",
    "    u = w - alpha * v\n",
    "    u = np.maximum(u, 0)  # Ensure u is non-negative\n",
    "    \n",
    "    # Filter points with positive weights\n",
    "    S = P[u > 0]\n",
    "    u = u[u > 0]\n",
    "    \n",
    "    if len(S) > d + 1:\n",
    "        return caratheodory(S, u)  # Recursive call if needed\n",
    "    return S, u\n",
    "\n",
    "# Example usage:\n",
    "# Define points P and weights w\n",
    "P = np.array([[1, 2], [2, 3], [3, 1], [4, 5], [5, 3]])\n",
    "w = np.array([0.2, 0.2, 0.2, 0.2, 0.2])\n",
    "\n",
    "# Call the function\n",
    "S, u = caratheodory(P, w)\n",
    "print(\"Subset S:\", S)\n",
    "print(\"New weights u:\", u)\n"
   ]
  },
  {
   "cell_type": "code",
   "execution_count": null,
   "metadata": {},
   "outputs": [],
   "source": [
    "\n",
    "\n"
   ]
  }
 ],
 "metadata": {
  "kernelspec": {
   "display_name": "Python 3",
   "language": "python",
   "name": "python3"
  },
  "language_info": {
   "codemirror_mode": {
    "name": "ipython",
    "version": 3
   },
   "file_extension": ".py",
   "mimetype": "text/x-python",
   "name": "python",
   "nbconvert_exporter": "python",
   "pygments_lexer": "ipython3",
   "version": "3.11.9"
  }
 },
 "nbformat": 4,
 "nbformat_minor": 2
}
